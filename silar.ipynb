{
  "nbformat": 4,
  "nbformat_minor": 0,
  "metadata": {
    "colab": {
      "name": "silar.ipynb",
      "provenance": [],
      "collapsed_sections": [],
      "mount_file_id": "1G3RmlnOgzaS4tXFnbPkB8j_CWI_0GlUV",
      "authorship_tag": "ABX9TyORxOvcgi15/NlZeoAMCYsV",
      "include_colab_link": true
    },
    "kernelspec": {
      "name": "python3",
      "display_name": "Python 3"
    },
    "language_info": {
      "name": "python"
    },
    "accelerator": "GPU"
  },
  "cells": [
    {
      "cell_type": "markdown",
      "metadata": {
        "id": "view-in-github",
        "colab_type": "text"
      },
      "source": [
        "<a href=\"https://colab.research.google.com/github/liege1997/Sign-Language-Recognition/blob/main/silar.ipynb\" target=\"_parent\"><img src=\"https://colab.research.google.com/assets/colab-badge.svg\" alt=\"Open In Colab\"/></a>"
      ]
    },
    {
      "cell_type": "markdown",
      "metadata": {
        "id": "kVMDue9So9Qo"
      },
      "source": [
        "# Project Silar - Sign Language Recognition\n",
        "\n",
        "**Initial methods to import dataset from Kaggle**\n",
        "\n",
        "import os\n",
        "\n",
        "os.chdir('/content/drive/MyDrive/Colab Notebooks/ProjectSilar')\n",
        "\n",
        "os.listdir()\n",
        "\n",
        "!pip install kaggle\n",
        "\n",
        "!kaggle datasets download -d ayuraj/american-sign-language-dataset\n",
        "\n",
        "!unzip -q 'american-sign-language-dataset.zip'"
      ]
    },
    {
      "cell_type": "markdown",
      "metadata": {
        "id": "n0p3voAsvZVj"
      },
      "source": [
        "**References:**\n",
        "\n",
        "https://colab.research.google.com/github/xn2333/OpenCV/blob/master/Image_Processing_in_Python_Final.ipynb#scrollTo=6dy-iP-VTibt\n",
        "\n",
        "https://developers.google.com/machine-learning/practica/image-classification/convolutional-neural-networks\n",
        "\n",
        "https://www.tensorflow.org/tutorials/load_data/images\n",
        "\n",
        "https://www.tensorflow.org/tutorials/images/cnn"
      ]
    },
    {
      "cell_type": "code",
      "metadata": {
        "id": "CLbshBSMw43L"
      },
      "source": [
        "import os\n",
        "import numpy as np\n",
        "import pandas as pd\n",
        "import tensorflow as tf\n",
        "import cv2 \n",
        "import matplotlib.pyplot as plt\n",
        "%matplotlib inline\n",
        "from sklearn.model_selection import train_test_split\n",
        "from __future__ import print_function\n",
        "import keras\n",
        "from keras.models import Sequential\n",
        "from keras.utils import to_categorical\n",
        "from keras.layers import Dense, Conv2D, MaxPooling2D, Dropout, Flatten"
      ],
      "execution_count": 30,
      "outputs": []
    },
    {
      "cell_type": "code",
      "metadata": {
        "colab": {
          "base_uri": "https://localhost:8080/"
        },
        "id": "rUXL-2nDmwYt",
        "outputId": "a673bc3f-d32f-486a-8fdb-a7fe11622688"
      },
      "source": [
        "img_folder=\"/content/drive/MyDrive/Colab Notebooks/ProjectSilar/asl\"\n",
        "asl_dir = tf.keras.preprocessing.image_dataset_from_directory(img_folder)"
      ],
      "execution_count": null,
      "outputs": [
        {
          "output_type": "stream",
          "text": [
            "Found 25291 files belonging to 36 classes.\n"
          ],
          "name": "stdout"
        }
      ]
    },
    {
      "cell_type": "code",
      "metadata": {
        "id": "mOONopg_8zmx"
      },
      "source": [
        "img_height = 64\n",
        "img_width = 64\n",
        "load_size = 20 #total images per folder"
      ],
      "execution_count": 60,
      "outputs": []
    },
    {
      "cell_type": "code",
      "metadata": {
        "id": "yqn8nztX6zAp"
      },
      "source": [
        "l={'0':0,'1':1,'2':2,'3':3,'4':4,'5':5,'6':6,'7':7,'8':8,'9':9,\n",
        "   'a':10,'b':11,'c':12,'d':13,'e':14,'f':15,'g':16,'h':17,'i':18,'j':19,'k':20,'l':21,'m':22,\n",
        "   'n':23,'o':24,'p':25,'q':26,'r':27,'s':28,'t':29,'u':30,'v':31,'w':32,'x':33,'y':34,'z':35}"
      ],
      "execution_count": 61,
      "outputs": []
    },
    {
      "cell_type": "code",
      "metadata": {
        "id": "FvL8DkeVBLGy"
      },
      "source": [
        "os.chdir('/content/drive/MyDrive/Colab Notebooks/ProjectSilar/asl')\n",
        "\n",
        "image_data=[]\n",
        "class_labels=[]\n",
        "\n",
        "for folder_name in os.listdir():\n",
        "  folder_path = os.path.join(os.getcwd(),folder_name)\n",
        "  for imgs in os.listdir(folder_path)[:load_size]:\n",
        "    img_path=os.path.join(folder_path,imgs)\n",
        "    image=cv2.imread(img_path) \n",
        "    image=cv2.resize(image,(img_width,img_height))\n",
        "    image=np.asarray(image)\n",
        "    image = image.astype('float32')\n",
        "    image /= 255 #to range 0-1\n",
        "    image_data.append(image)\n",
        "    class_labels.append(l[folder_name])"
      ],
      "execution_count": 62,
      "outputs": []
    },
    {
      "cell_type": "code",
      "metadata": {
        "colab": {
          "base_uri": "https://localhost:8080/",
          "height": 353
        },
        "id": "YU7-REhg-HKz",
        "outputId": "6fd29464-e2da-4c17-ec31-9a81bba07ca5"
      },
      "source": [
        "plt.figure(figsize=(10,5))\n",
        "plt.title(class_labels[50])\n",
        "plt.imshow(image_data[50])"
      ],
      "execution_count": 63,
      "outputs": [
        {
          "output_type": "execute_result",
          "data": {
            "text/plain": [
              "<matplotlib.image.AxesImage at 0x7f8db48f1110>"
            ]
          },
          "metadata": {
            "tags": []
          },
          "execution_count": 63
        },
        {
          "output_type": "display_data",
          "data": {
            "image/png": "[encoded data removed]",
            "text/plain": [
              "<Figure size 720x360 with 1 Axes>"
            ]
          },
          "metadata": {
            "tags": [],
            "needs_background": "light"
          }
        }
      ]
    },
    {
      "cell_type": "code",
      "metadata": {
        "id": "tZY9L2MZHNo_"
      },
      "source": [
        "X=np.array(image_data)\n",
        "#Y=np.array(to_categorical(class_labels))\n",
        "Y=np.array(class_labels)\n",
        "X_train, X_test, y_train, y_test = train_test_split(X, Y, test_size=0.20, random_state=11)"
      ],
      "execution_count": 96,
      "outputs": []
    },
    {
      "cell_type": "code",
      "metadata": {
        "colab": {
          "base_uri": "https://localhost:8080/"
        },
        "id": "x579mSPOI86g",
        "outputId": "2ccd5a66-06e5-40be-82d5-63d30c46fcd9"
      },
      "source": [
        "Y.shape"
      ],
      "execution_count": 98,
      "outputs": [
        {
          "output_type": "execute_result",
          "data": {
            "text/plain": [
              "(720,)"
            ]
          },
          "metadata": {
            "tags": []
          },
          "execution_count": 98
        }
      ]
    },
    {
      "cell_type": "code",
      "metadata": {
        "id": "SExDqZRP_ttr"
      },
      "source": [
        "nRows,nCols,nDims = X.shape[1:]\n",
        "input_shape = (nRows, nCols, nDims)\n",
        "nClasses=len(l)"
      ],
      "execution_count": 66,
      "outputs": []
    },
    {
      "cell_type": "code",
      "metadata": {
        "id": "LsCf7fRI6sgG"
      },
      "source": [
        "def createModel():\n",
        "    model = Sequential()\n",
        "    # The first two layers with 32 filters of window size 3x3\n",
        "    #model.add(Conv2D(32, (3, 3), padding='same', activation='relu', input_shape=input_shape))\n",
        "    #model.add(Conv2D(32, (3, 3), activation='relu'))\n",
        "    #model.add(MaxPooling2D(pool_size=(2, 2)))\n",
        "    #model.add(Dropout(0.25))\n",
        "\n",
        "    model.add(Conv2D(64, (3, 3), padding='same', activation='relu'))\n",
        "    model.add(Conv2D(64, (3, 3), activation='relu'))\n",
        "    model.add(MaxPooling2D(pool_size=(2, 2)))\n",
        "    model.add(Dropout(0.25))\n",
        "\n",
        "    model.add(Conv2D(64, (3, 3), padding='same', activation='relu'))\n",
        "    model.add(Conv2D(64, (3, 3), activation='relu'))\n",
        "    model.add(MaxPooling2D(pool_size=(2, 2)))\n",
        "    model.add(Dropout(0.25))\n",
        "\n",
        "    model.add(Flatten())\n",
        "    model.add(Dense(512, activation='relu'))\n",
        "    model.add(Dropout(0.5))\n",
        "    model.add(Dense(nClasses, activation='softmax'))\n",
        "    \n",
        "    return model"
      ],
      "execution_count": 67,
      "outputs": []
    },
    {
      "cell_type": "code",
      "metadata": {
        "id": "GrqL01vk_aL9"
      },
      "source": [
        "model1 = createModel()\n",
        "batch_size = 256\n",
        "epochs = 100\n",
        "model1.compile(optimizer='rmsprop', loss='categorical_crossentropy', metrics=['accuracy'])"
      ],
      "execution_count": 68,
      "outputs": []
    },
    {
      "cell_type": "code",
      "metadata": {
        "id": "B3sE-Q3OHYed"
      },
      "source": [
        "model1.summary()"
      ],
      "execution_count": null,
      "outputs": []
    },
    {
      "cell_type": "code",
      "metadata": {
        "colab": {
          "base_uri": "https://localhost:8080/"
        },
        "id": "qBTGPM1_Habt",
        "outputId": "958e21f6-7963-46e9-9231-6e95e064cd6f"
      },
      "source": [
        "history = model1.fit(X_train, y_train, batch_size=batch_size, epochs=epochs, verbose=1, \n",
        "                   validation_data=(X_test, y_test))\n",
        "model1.evaluate(X_test, y_test)"
      ],
      "execution_count": 69,
      "outputs": [
        {
          "output_type": "stream",
          "text": [
            "Epoch 1/100\n",
            "3/3 [==============================] - 7s 1s/step - loss: 4.1052 - accuracy: 0.0266 - val_loss: 3.5807 - val_accuracy: 0.0347\n",
            "Epoch 2/100\n",
            "3/3 [==============================] - 1s 179ms/step - loss: 3.5661 - accuracy: 0.0349 - val_loss: 3.5732 - val_accuracy: 0.0139\n",
            "Epoch 3/100\n",
            "3/3 [==============================] - 1s 183ms/step - loss: 3.4911 - accuracy: 0.0597 - val_loss: 3.8720 - val_accuracy: 0.0764\n",
            "Epoch 4/100\n",
            "3/3 [==============================] - 1s 178ms/step - loss: 3.5951 - accuracy: 0.0860 - val_loss: 3.2887 - val_accuracy: 0.1597\n",
            "Epoch 5/100\n",
            "3/3 [==============================] - 1s 173ms/step - loss: 3.0319 - accuracy: 0.1621 - val_loss: 3.0664 - val_accuracy: 0.1042\n",
            "Epoch 6/100\n",
            "3/3 [==============================] - 1s 184ms/step - loss: 2.8023 - accuracy: 0.2754 - val_loss: 2.6973 - val_accuracy: 0.2292\n",
            "Epoch 7/100\n",
            "3/3 [==============================] - 1s 179ms/step - loss: 2.2754 - accuracy: 0.3600 - val_loss: 2.1873 - val_accuracy: 0.3472\n",
            "Epoch 8/100\n",
            "3/3 [==============================] - 1s 180ms/step - loss: 1.7633 - accuracy: 0.4963 - val_loss: 2.3416 - val_accuracy: 0.3125\n",
            "Epoch 9/100\n",
            "3/3 [==============================] - 1s 181ms/step - loss: 1.6042 - accuracy: 0.5440 - val_loss: 2.0738 - val_accuracy: 0.3472\n",
            "Epoch 10/100\n",
            "3/3 [==============================] - 1s 182ms/step - loss: 1.2425 - accuracy: 0.6039 - val_loss: 1.7554 - val_accuracy: 0.5208\n",
            "Epoch 11/100\n",
            "3/3 [==============================] - 1s 178ms/step - loss: 0.9256 - accuracy: 0.7222 - val_loss: 1.5492 - val_accuracy: 0.5833\n",
            "Epoch 12/100\n",
            "3/3 [==============================] - 1s 179ms/step - loss: 0.6851 - accuracy: 0.7911 - val_loss: 1.8704 - val_accuracy: 0.5278\n",
            "Epoch 13/100\n",
            "3/3 [==============================] - 1s 180ms/step - loss: 0.9355 - accuracy: 0.7085 - val_loss: 1.5281 - val_accuracy: 0.5764\n",
            "Epoch 14/100\n",
            "3/3 [==============================] - 1s 181ms/step - loss: 0.5014 - accuracy: 0.8461 - val_loss: 1.6998 - val_accuracy: 0.4861\n",
            "Epoch 15/100\n",
            "3/3 [==============================] - 1s 173ms/step - loss: 0.5660 - accuracy: 0.8324 - val_loss: 1.4534 - val_accuracy: 0.6042\n",
            "Epoch 16/100\n",
            "3/3 [==============================] - 1s 178ms/step - loss: 0.2986 - accuracy: 0.9100 - val_loss: 1.3508 - val_accuracy: 0.6667\n",
            "Epoch 17/100\n",
            "3/3 [==============================] - 1s 180ms/step - loss: 0.1840 - accuracy: 0.9375 - val_loss: 1.3020 - val_accuracy: 0.6736\n",
            "Epoch 18/100\n",
            "3/3 [==============================] - 1s 182ms/step - loss: 0.1578 - accuracy: 0.9533 - val_loss: 1.8582 - val_accuracy: 0.6319\n",
            "Epoch 19/100\n",
            "3/3 [==============================] - 1s 179ms/step - loss: 0.2644 - accuracy: 0.9189 - val_loss: 1.4151 - val_accuracy: 0.6597\n",
            "Epoch 20/100\n",
            "3/3 [==============================] - 1s 180ms/step - loss: 0.1217 - accuracy: 0.9658 - val_loss: 1.3658 - val_accuracy: 0.7222\n",
            "Epoch 21/100\n",
            "3/3 [==============================] - 1s 178ms/step - loss: 0.1080 - accuracy: 0.9588 - val_loss: 1.3249 - val_accuracy: 0.6875\n",
            "Epoch 22/100\n",
            "3/3 [==============================] - 1s 184ms/step - loss: 0.1202 - accuracy: 0.9590 - val_loss: 1.5173 - val_accuracy: 0.7153\n",
            "Epoch 23/100\n",
            "3/3 [==============================] - 1s 179ms/step - loss: 0.0905 - accuracy: 0.9802 - val_loss: 2.2264 - val_accuracy: 0.6389\n",
            "Epoch 24/100\n",
            "3/3 [==============================] - 1s 179ms/step - loss: 0.0818 - accuracy: 0.9737 - val_loss: 1.6426 - val_accuracy: 0.6875\n",
            "Epoch 25/100\n",
            "3/3 [==============================] - 1s 175ms/step - loss: 0.0757 - accuracy: 0.9753 - val_loss: 1.5631 - val_accuracy: 0.7153\n",
            "Epoch 26/100\n",
            "3/3 [==============================] - 1s 181ms/step - loss: 0.0603 - accuracy: 0.9774 - val_loss: 1.8017 - val_accuracy: 0.6667\n",
            "Epoch 27/100\n",
            "3/3 [==============================] - 1s 177ms/step - loss: 0.0836 - accuracy: 0.9789 - val_loss: 1.8965 - val_accuracy: 0.6806\n",
            "Epoch 28/100\n",
            "3/3 [==============================] - 1s 177ms/step - loss: 0.3400 - accuracy: 0.8927 - val_loss: 1.2704 - val_accuracy: 0.6944\n",
            "Epoch 29/100\n",
            "3/3 [==============================] - 1s 178ms/step - loss: 0.0556 - accuracy: 0.9839 - val_loss: 1.3204 - val_accuracy: 0.6944\n",
            "Epoch 30/100\n",
            "3/3 [==============================] - 1s 182ms/step - loss: 0.0174 - accuracy: 0.9977 - val_loss: 1.4515 - val_accuracy: 0.7431\n",
            "Epoch 31/100\n",
            "3/3 [==============================] - 1s 178ms/step - loss: 0.0224 - accuracy: 0.9932 - val_loss: 1.5950 - val_accuracy: 0.7083\n",
            "Epoch 32/100\n",
            "3/3 [==============================] - 1s 178ms/step - loss: 0.0146 - accuracy: 0.9977 - val_loss: 1.6593 - val_accuracy: 0.7083\n",
            "Epoch 33/100\n",
            "3/3 [==============================] - 1s 180ms/step - loss: 0.0180 - accuracy: 0.9954 - val_loss: 1.8607 - val_accuracy: 0.7431\n",
            "Epoch 34/100\n",
            "3/3 [==============================] - 1s 181ms/step - loss: 0.0159 - accuracy: 0.9921 - val_loss: 2.2026 - val_accuracy: 0.6667\n",
            "Epoch 35/100\n",
            "3/3 [==============================] - 1s 180ms/step - loss: 0.0947 - accuracy: 0.9728 - val_loss: 1.5116 - val_accuracy: 0.7222\n",
            "Epoch 36/100\n",
            "3/3 [==============================] - 1s 181ms/step - loss: 0.1172 - accuracy: 0.9619 - val_loss: 1.8128 - val_accuracy: 0.7153\n",
            "Epoch 37/100\n",
            "3/3 [==============================] - 1s 180ms/step - loss: 0.0193 - accuracy: 0.9953 - val_loss: 1.7722 - val_accuracy: 0.7153\n",
            "Epoch 38/100\n",
            "3/3 [==============================] - 1s 177ms/step - loss: 0.0081 - accuracy: 0.9991 - val_loss: 2.5113 - val_accuracy: 0.6181\n",
            "Epoch 39/100\n",
            "3/3 [==============================] - 1s 179ms/step - loss: 0.1169 - accuracy: 0.9543 - val_loss: 1.8062 - val_accuracy: 0.7083\n",
            "Epoch 40/100\n",
            "3/3 [==============================] - 1s 179ms/step - loss: 0.0372 - accuracy: 0.9893 - val_loss: 1.7348 - val_accuracy: 0.7222\n",
            "Epoch 41/100\n",
            "3/3 [==============================] - 1s 176ms/step - loss: 0.0218 - accuracy: 0.9940 - val_loss: 1.7400 - val_accuracy: 0.7153\n",
            "Epoch 42/100\n",
            "3/3 [==============================] - 1s 180ms/step - loss: 0.0093 - accuracy: 0.9959 - val_loss: 1.7932 - val_accuracy: 0.7361\n",
            "Epoch 43/100\n",
            "3/3 [==============================] - 1s 179ms/step - loss: 0.0080 - accuracy: 0.9963 - val_loss: 1.7363 - val_accuracy: 0.7083\n",
            "Epoch 44/100\n",
            "3/3 [==============================] - 1s 175ms/step - loss: 0.0052 - accuracy: 1.0000 - val_loss: 1.7968 - val_accuracy: 0.7153\n",
            "Epoch 45/100\n",
            "3/3 [==============================] - 1s 179ms/step - loss: 0.0021 - accuracy: 1.0000 - val_loss: 1.9944 - val_accuracy: 0.7153\n",
            "Epoch 46/100\n",
            "3/3 [==============================] - 1s 190ms/step - loss: 0.0049 - accuracy: 0.9977 - val_loss: 2.0769 - val_accuracy: 0.6944\n",
            "Epoch 47/100\n",
            "3/3 [==============================] - 1s 181ms/step - loss: 0.0339 - accuracy: 0.9876 - val_loss: 2.1883 - val_accuracy: 0.6944\n",
            "Epoch 48/100\n",
            "3/3 [==============================] - 1s 177ms/step - loss: 0.0068 - accuracy: 0.9977 - val_loss: 2.1768 - val_accuracy: 0.7014\n",
            "Epoch 49/100\n",
            "3/3 [==============================] - 1s 179ms/step - loss: 0.0086 - accuracy: 0.9977 - val_loss: 2.2402 - val_accuracy: 0.7083\n",
            "Epoch 50/100\n",
            "3/3 [==============================] - 1s 181ms/step - loss: 0.0047 - accuracy: 0.9963 - val_loss: 2.4088 - val_accuracy: 0.7014\n",
            "Epoch 51/100\n",
            "3/3 [==============================] - 1s 176ms/step - loss: 0.0233 - accuracy: 0.9932 - val_loss: 1.7955 - val_accuracy: 0.7083\n",
            "Epoch 52/100\n",
            "3/3 [==============================] - 1s 181ms/step - loss: 0.1147 - accuracy: 0.9674 - val_loss: 1.9985 - val_accuracy: 0.7014\n",
            "Epoch 53/100\n",
            "3/3 [==============================] - 1s 179ms/step - loss: 0.0311 - accuracy: 0.9856 - val_loss: 1.9537 - val_accuracy: 0.6806\n",
            "Epoch 54/100\n",
            "3/3 [==============================] - 1s 177ms/step - loss: 0.0111 - accuracy: 0.9977 - val_loss: 1.9558 - val_accuracy: 0.6944\n",
            "Epoch 55/100\n",
            "3/3 [==============================] - 1s 177ms/step - loss: 0.0052 - accuracy: 0.9977 - val_loss: 1.9710 - val_accuracy: 0.7222\n",
            "Epoch 56/100\n",
            "3/3 [==============================] - 1s 183ms/step - loss: 0.0039 - accuracy: 1.0000 - val_loss: 2.2077 - val_accuracy: 0.7014\n",
            "Epoch 57/100\n",
            "3/3 [==============================] - 1s 176ms/step - loss: 0.0135 - accuracy: 0.9963 - val_loss: 2.1006 - val_accuracy: 0.6944\n",
            "Epoch 58/100\n",
            "3/3 [==============================] - 1s 178ms/step - loss: 0.0043 - accuracy: 1.0000 - val_loss: 2.3539 - val_accuracy: 0.6667\n",
            "Epoch 59/100\n",
            "3/3 [==============================] - 1s 177ms/step - loss: 0.0160 - accuracy: 0.9941 - val_loss: 2.5917 - val_accuracy: 0.6806\n",
            "Epoch 60/100\n",
            "3/3 [==============================] - 1s 177ms/step - loss: 0.0217 - accuracy: 0.9977 - val_loss: 2.6575 - val_accuracy: 0.6528\n",
            "Epoch 61/100\n",
            "3/3 [==============================] - 1s 176ms/step - loss: 0.0483 - accuracy: 0.9941 - val_loss: 1.9753 - val_accuracy: 0.6806\n",
            "Epoch 62/100\n",
            "3/3 [==============================] - 1s 182ms/step - loss: 0.0126 - accuracy: 0.9978 - val_loss: 2.0959 - val_accuracy: 0.7153\n",
            "Epoch 63/100\n",
            "3/3 [==============================] - 1s 180ms/step - loss: 0.0059 - accuracy: 0.9986 - val_loss: 2.1715 - val_accuracy: 0.7292\n",
            "Epoch 64/100\n",
            "3/3 [==============================] - 1s 180ms/step - loss: 0.0014 - accuracy: 1.0000 - val_loss: 2.2620 - val_accuracy: 0.7222\n",
            "Epoch 65/100\n",
            "3/3 [==============================] - 1s 180ms/step - loss: 0.0021 - accuracy: 1.0000 - val_loss: 2.5083 - val_accuracy: 0.6806\n",
            "Epoch 66/100\n",
            "3/3 [==============================] - 1s 182ms/step - loss: 0.0044 - accuracy: 0.9986 - val_loss: 2.4429 - val_accuracy: 0.7014\n",
            "Epoch 67/100\n",
            "3/3 [==============================] - 1s 179ms/step - loss: 0.0010 - accuracy: 1.0000 - val_loss: 2.9039 - val_accuracy: 0.7014\n",
            "Epoch 68/100\n",
            "3/3 [==============================] - 1s 178ms/step - loss: 0.0026 - accuracy: 1.0000 - val_loss: 2.9400 - val_accuracy: 0.7014\n",
            "Epoch 69/100\n",
            "3/3 [==============================] - 1s 179ms/step - loss: 0.0011 - accuracy: 1.0000 - val_loss: 3.2297 - val_accuracy: 0.6944\n",
            "Epoch 70/100\n",
            "3/3 [==============================] - 1s 176ms/step - loss: 0.0033 - accuracy: 0.9977 - val_loss: 2.8198 - val_accuracy: 0.7083\n",
            "Epoch 71/100\n",
            "3/3 [==============================] - 1s 181ms/step - loss: 5.7923e-04 - accuracy: 1.0000 - val_loss: 2.9632 - val_accuracy: 0.7014\n",
            "Epoch 72/100\n",
            "3/3 [==============================] - 1s 178ms/step - loss: 0.0116 - accuracy: 0.9977 - val_loss: 2.5003 - val_accuracy: 0.7222\n",
            "Epoch 73/100\n",
            "3/3 [==============================] - 1s 176ms/step - loss: 0.0066 - accuracy: 0.9968 - val_loss: 3.6125 - val_accuracy: 0.6528\n",
            "Epoch 74/100\n",
            "3/3 [==============================] - 1s 183ms/step - loss: 0.1855 - accuracy: 0.9537 - val_loss: 3.0898 - val_accuracy: 0.6597\n",
            "Epoch 75/100\n",
            "3/3 [==============================] - 1s 182ms/step - loss: 0.0336 - accuracy: 0.9866 - val_loss: 2.5941 - val_accuracy: 0.6944\n",
            "Epoch 76/100\n",
            "3/3 [==============================] - 1s 178ms/step - loss: 0.0122 - accuracy: 0.9968 - val_loss: 2.6863 - val_accuracy: 0.7153\n",
            "Epoch 77/100\n",
            "3/3 [==============================] - 1s 176ms/step - loss: 0.0086 - accuracy: 0.9959 - val_loss: 2.9045 - val_accuracy: 0.6944\n",
            "Epoch 78/100\n",
            "3/3 [==============================] - 1s 178ms/step - loss: 0.0197 - accuracy: 0.9936 - val_loss: 2.5646 - val_accuracy: 0.7083\n",
            "Epoch 79/100\n",
            "3/3 [==============================] - 1s 181ms/step - loss: 0.0157 - accuracy: 0.9940 - val_loss: 2.5633 - val_accuracy: 0.7083\n",
            "Epoch 80/100\n",
            "3/3 [==============================] - 1s 180ms/step - loss: 0.0060 - accuracy: 0.9977 - val_loss: 2.6284 - val_accuracy: 0.7153\n",
            "Epoch 81/100\n",
            "3/3 [==============================] - 1s 181ms/step - loss: 0.0037 - accuracy: 0.9973 - val_loss: 2.6389 - val_accuracy: 0.7153\n",
            "Epoch 82/100\n",
            "3/3 [==============================] - 1s 179ms/step - loss: 0.0110 - accuracy: 0.9959 - val_loss: 2.6185 - val_accuracy: 0.7014\n",
            "Epoch 83/100\n",
            "3/3 [==============================] - 1s 176ms/step - loss: 0.0168 - accuracy: 0.9973 - val_loss: 2.5369 - val_accuracy: 0.7292\n",
            "Epoch 84/100\n",
            "3/3 [==============================] - 1s 179ms/step - loss: 0.0014 - accuracy: 1.0000 - val_loss: 2.5670 - val_accuracy: 0.7222\n",
            "Epoch 85/100\n",
            "3/3 [==============================] - 1s 180ms/step - loss: 9.0954e-04 - accuracy: 1.0000 - val_loss: 2.6035 - val_accuracy: 0.7222\n",
            "Epoch 86/100\n",
            "3/3 [==============================] - 1s 181ms/step - loss: 0.0027 - accuracy: 0.9991 - val_loss: 2.1723 - val_accuracy: 0.7014\n",
            "Epoch 87/100\n",
            "3/3 [==============================] - 1s 182ms/step - loss: 0.0094 - accuracy: 0.9940 - val_loss: 2.4561 - val_accuracy: 0.7292\n",
            "Epoch 88/100\n",
            "3/3 [==============================] - 1s 176ms/step - loss: 7.5816e-04 - accuracy: 1.0000 - val_loss: 2.5320 - val_accuracy: 0.7361\n",
            "Epoch 89/100\n",
            "3/3 [==============================] - 1s 179ms/step - loss: 0.0014 - accuracy: 1.0000 - val_loss: 2.5601 - val_accuracy: 0.7222\n",
            "Epoch 90/100\n",
            "3/3 [==============================] - 1s 181ms/step - loss: 0.0065 - accuracy: 0.9973 - val_loss: 3.1219 - val_accuracy: 0.7153\n",
            "Epoch 91/100\n",
            "3/3 [==============================] - 1s 183ms/step - loss: 0.0017 - accuracy: 1.0000 - val_loss: 3.0176 - val_accuracy: 0.7361\n",
            "Epoch 92/100\n",
            "3/3 [==============================] - 1s 182ms/step - loss: 0.0014 - accuracy: 1.0000 - val_loss: 3.0381 - val_accuracy: 0.7361\n",
            "Epoch 93/100\n",
            "3/3 [==============================] - 1s 176ms/step - loss: 5.2779e-04 - accuracy: 1.0000 - val_loss: 3.1439 - val_accuracy: 0.7292\n",
            "Epoch 94/100\n",
            "3/3 [==============================] - 1s 183ms/step - loss: 7.4688e-04 - accuracy: 0.9991 - val_loss: 3.4009 - val_accuracy: 0.6944\n",
            "Epoch 95/100\n",
            "3/3 [==============================] - 1s 176ms/step - loss: 0.0052 - accuracy: 0.9986 - val_loss: 3.5027 - val_accuracy: 0.6875\n",
            "Epoch 96/100\n",
            "3/3 [==============================] - 1s 176ms/step - loss: 0.0309 - accuracy: 0.9930 - val_loss: 3.0391 - val_accuracy: 0.6806\n",
            "Epoch 97/100\n",
            "3/3 [==============================] - 1s 180ms/step - loss: 0.0179 - accuracy: 0.9903 - val_loss: 2.5438 - val_accuracy: 0.7153\n",
            "Epoch 98/100\n",
            "3/3 [==============================] - 1s 177ms/step - loss: 7.5594e-04 - accuracy: 1.0000 - val_loss: 2.6403 - val_accuracy: 0.7014\n",
            "Epoch 99/100\n",
            "3/3 [==============================] - 1s 176ms/step - loss: 8.4778e-04 - accuracy: 1.0000 - val_loss: 2.6778 - val_accuracy: 0.7222\n",
            "Epoch 100/100\n",
            "3/3 [==============================] - 1s 176ms/step - loss: 2.2270e-04 - accuracy: 1.0000 - val_loss: 2.8621 - val_accuracy: 0.7222\n",
            "5/5 [==============================] - 0s 49ms/step - loss: 2.8621 - accuracy: 0.7222\n"
          ],
          "name": "stdout"
        },
        {
          "output_type": "execute_result",
          "data": {
            "text/plain": [
              "[2.8621137142181396, 0.7222222089767456]"
            ]
          },
          "metadata": {
            "tags": []
          },
          "execution_count": 69
        }
      ]
    },
    {
      "cell_type": "code",
      "metadata": {
        "colab": {
          "base_uri": "https://localhost:8080/",
          "height": 300
        },
        "id": "adfeyu20Lyxh",
        "outputId": "43facbf1-5c75-4d8e-cebe-72c0594c20fe"
      },
      "source": [
        "plt.plot(history.history['accuracy'], label='accuracy')\n",
        "plt.plot(history.history['val_accuracy'], label = 'val_accuracy')\n",
        "plt.xlabel('Epoch')\n",
        "plt.ylabel('Accuracy')\n",
        "plt.ylim([0.5, 1])\n",
        "plt.legend(loc='lower right')\n",
        "\n",
        "test_loss, test_acc = model1.evaluate(X_test, y_test, verbose=2)\n"
      ],
      "execution_count": 76,
      "outputs": [
        {
          "output_type": "stream",
          "text": [
            "5/5 - 0s - loss: 2.8621 - accuracy: 0.7222\n"
          ],
          "name": "stdout"
        },
        {
          "output_type": "display_data",
          "data": {
            "image/png": "[encoded data removed]",
            "text/plain": [
              "<Figure size 432x288 with 1 Axes>"
            ]
          },
          "metadata": {
            "tags": [],
            "needs_background": "light"
          }
        }
      ]
    },
    {
      "cell_type": "code",
      "metadata": {
        "id": "8hcOzne1SYBy"
      },
      "source": [
        "import tensorflow as tf\n",
        "\n",
        "from tensorflow.keras import datasets, layers, models\n",
        "import matplotlib.pyplot as plt\n",
        "\n",
        "model = models.Sequential()\n",
        "model.add(layers.Conv2D(64, (3, 3), activation='relu', input_shape=(64, 64, 3)))\n",
        "model.add(layers.MaxPooling2D((2, 2)))\n",
        "#model.add(layers.Conv2D(64, (3, 3), activation='relu'))\n",
        "#model.add(layers.MaxPooling2D((2, 2)))\n",
        "model.add(layers.Conv2D(64, (3, 3), activation='relu'))\n"
      ],
      "execution_count": 99,
      "outputs": []
    },
    {
      "cell_type": "code",
      "metadata": {
        "colab": {
          "base_uri": "https://localhost:8080/"
        },
        "id": "WVHkXYWtSqND",
        "outputId": "9ca35b82-fd42-489d-8226-a7aa86d83fe9"
      },
      "source": [
        "model.summary()\n"
      ],
      "execution_count": 100,
      "outputs": [
        {
          "output_type": "stream",
          "text": [
            "Model: \"sequential_16\"\n",
            "_________________________________________________________________\n",
            "Layer (type)                 Output Shape              Param #   \n",
            "=================================================================\n",
            "conv2d_61 (Conv2D)           (None, 62, 62, 64)        1792      \n",
            "_________________________________________________________________\n",
            "max_pooling2d_31 (MaxPooling (None, 31, 31, 64)        0         \n",
            "_________________________________________________________________\n",
            "conv2d_62 (Conv2D)           (None, 29, 29, 64)        36928     \n",
            "=================================================================\n",
            "Total params: 38,720\n",
            "Trainable params: 38,720\n",
            "Non-trainable params: 0\n",
            "_________________________________________________________________\n"
          ],
          "name": "stdout"
        }
      ]
    },
    {
      "cell_type": "code",
      "metadata": {
        "colab": {
          "base_uri": "https://localhost:8080/"
        },
        "id": "OVt8zliKSuzQ",
        "outputId": "7045af7d-e7da-4187-fa31-40638cee6f9c"
      },
      "source": [
        "model.add(layers.Flatten())\n",
        "model.add(layers.Dense(64, activation='relu'))\n",
        "model.add(layers.Dense(36))\n",
        "\n",
        "model.compile(optimizer='adam',\n",
        "              loss=tf.keras.losses.SparseCategoricalCrossentropy(from_logits=True),\n",
        "              metrics=['accuracy'])\n",
        "\n",
        "history = model.fit(X_train, y_train, epochs=100, \n",
        "                    validation_data=(X_test, y_test))\n"
      ],
      "execution_count": 106,
      "outputs": [
        {
          "output_type": "stream",
          "text": [
            "Epoch 1/100\n",
            "18/18 [==============================] - 1s 34ms/step - loss: 7.1464 - accuracy: 0.0833 - val_loss: 3.2356 - val_accuracy: 0.1319\n",
            "Epoch 2/100\n",
            "18/18 [==============================] - 0s 21ms/step - loss: 2.5823 - accuracy: 0.4253 - val_loss: 2.7514 - val_accuracy: 0.2361\n",
            "Epoch 3/100\n",
            "18/18 [==============================] - 0s 19ms/step - loss: 1.6374 - accuracy: 0.5917 - val_loss: 2.2743 - val_accuracy: 0.4097\n",
            "Epoch 4/100\n",
            "18/18 [==============================] - 0s 18ms/step - loss: 0.6573 - accuracy: 0.8512 - val_loss: 2.1289 - val_accuracy: 0.5694\n",
            "Epoch 5/100\n",
            "18/18 [==============================] - 0s 19ms/step - loss: 0.1308 - accuracy: 0.9854 - val_loss: 2.2722 - val_accuracy: 0.5694\n",
            "Epoch 6/100\n",
            "18/18 [==============================] - 0s 19ms/step - loss: 0.0425 - accuracy: 0.9991 - val_loss: 2.3701 - val_accuracy: 0.5556\n",
            "Epoch 7/100\n",
            "18/18 [==============================] - 0s 19ms/step - loss: 0.0152 - accuracy: 0.9995 - val_loss: 2.5066 - val_accuracy: 0.5972\n",
            "Epoch 8/100\n",
            "18/18 [==============================] - 0s 20ms/step - loss: 0.0070 - accuracy: 1.0000 - val_loss: 2.4970 - val_accuracy: 0.6181\n",
            "Epoch 9/100\n",
            "18/18 [==============================] - 0s 19ms/step - loss: 0.0034 - accuracy: 1.0000 - val_loss: 2.5622 - val_accuracy: 0.6181\n",
            "Epoch 10/100\n",
            "18/18 [==============================] - 0s 19ms/step - loss: 0.0023 - accuracy: 1.0000 - val_loss: 2.6033 - val_accuracy: 0.6319\n",
            "Epoch 11/100\n",
            "18/18 [==============================] - 0s 19ms/step - loss: 0.0017 - accuracy: 1.0000 - val_loss: 2.6413 - val_accuracy: 0.6250\n",
            "Epoch 12/100\n",
            "18/18 [==============================] - 0s 19ms/step - loss: 0.0016 - accuracy: 1.0000 - val_loss: 2.6799 - val_accuracy: 0.6250\n",
            "Epoch 13/100\n",
            "18/18 [==============================] - 0s 19ms/step - loss: 0.0013 - accuracy: 1.0000 - val_loss: 2.7071 - val_accuracy: 0.6250\n",
            "Epoch 14/100\n",
            "18/18 [==============================] - 0s 19ms/step - loss: 0.0010 - accuracy: 1.0000 - val_loss: 2.7335 - val_accuracy: 0.6250\n",
            "Epoch 15/100\n",
            "18/18 [==============================] - 0s 19ms/step - loss: 8.7144e-04 - accuracy: 1.0000 - val_loss: 2.7578 - val_accuracy: 0.6250\n",
            "Epoch 16/100\n",
            "18/18 [==============================] - 0s 18ms/step - loss: 8.7769e-04 - accuracy: 1.0000 - val_loss: 2.7778 - val_accuracy: 0.6319\n",
            "Epoch 17/100\n",
            "18/18 [==============================] - 0s 20ms/step - loss: 7.4417e-04 - accuracy: 1.0000 - val_loss: 2.7975 - val_accuracy: 0.6319\n",
            "Epoch 18/100\n",
            "18/18 [==============================] - 0s 19ms/step - loss: 6.3932e-04 - accuracy: 1.0000 - val_loss: 2.8174 - val_accuracy: 0.6319\n",
            "Epoch 19/100\n",
            "18/18 [==============================] - 0s 18ms/step - loss: 5.7926e-04 - accuracy: 1.0000 - val_loss: 2.8292 - val_accuracy: 0.6319\n",
            "Epoch 20/100\n",
            "18/18 [==============================] - 0s 19ms/step - loss: 5.4423e-04 - accuracy: 1.0000 - val_loss: 2.8516 - val_accuracy: 0.6319\n",
            "Epoch 21/100\n",
            "18/18 [==============================] - 0s 18ms/step - loss: 5.0411e-04 - accuracy: 1.0000 - val_loss: 2.8634 - val_accuracy: 0.6319\n",
            "Epoch 22/100\n",
            "18/18 [==============================] - 0s 19ms/step - loss: 4.8342e-04 - accuracy: 1.0000 - val_loss: 2.8800 - val_accuracy: 0.6319\n",
            "Epoch 23/100\n",
            "18/18 [==============================] - 0s 19ms/step - loss: 4.3917e-04 - accuracy: 1.0000 - val_loss: 2.8942 - val_accuracy: 0.6319\n",
            "Epoch 24/100\n",
            "18/18 [==============================] - 0s 18ms/step - loss: 3.7333e-04 - accuracy: 1.0000 - val_loss: 2.9085 - val_accuracy: 0.6319\n",
            "Epoch 25/100\n",
            "18/18 [==============================] - 0s 19ms/step - loss: 3.6639e-04 - accuracy: 1.0000 - val_loss: 2.9238 - val_accuracy: 0.6319\n",
            "Epoch 26/100\n",
            "18/18 [==============================] - 0s 19ms/step - loss: 3.3993e-04 - accuracy: 1.0000 - val_loss: 2.9349 - val_accuracy: 0.6319\n",
            "Epoch 27/100\n",
            "18/18 [==============================] - 0s 19ms/step - loss: 3.3745e-04 - accuracy: 1.0000 - val_loss: 2.9473 - val_accuracy: 0.6319\n",
            "Epoch 28/100\n",
            "18/18 [==============================] - 0s 19ms/step - loss: 3.0473e-04 - accuracy: 1.0000 - val_loss: 2.9611 - val_accuracy: 0.6389\n",
            "Epoch 29/100\n",
            "18/18 [==============================] - 0s 19ms/step - loss: 2.7518e-04 - accuracy: 1.0000 - val_loss: 2.9708 - val_accuracy: 0.6389\n",
            "Epoch 30/100\n",
            "18/18 [==============================] - 0s 18ms/step - loss: 2.8844e-04 - accuracy: 1.0000 - val_loss: 2.9815 - val_accuracy: 0.6389\n",
            "Epoch 31/100\n",
            "18/18 [==============================] - 0s 18ms/step - loss: 2.5378e-04 - accuracy: 1.0000 - val_loss: 2.9926 - val_accuracy: 0.6389\n",
            "Epoch 32/100\n",
            "18/18 [==============================] - 0s 19ms/step - loss: 2.4239e-04 - accuracy: 1.0000 - val_loss: 3.0035 - val_accuracy: 0.6389\n",
            "Epoch 33/100\n",
            "18/18 [==============================] - 0s 19ms/step - loss: 2.1640e-04 - accuracy: 1.0000 - val_loss: 3.0149 - val_accuracy: 0.6389\n",
            "Epoch 34/100\n",
            "18/18 [==============================] - 0s 19ms/step - loss: 2.0441e-04 - accuracy: 1.0000 - val_loss: 3.0230 - val_accuracy: 0.6389\n",
            "Epoch 35/100\n",
            "18/18 [==============================] - 0s 19ms/step - loss: 2.1639e-04 - accuracy: 1.0000 - val_loss: 3.0336 - val_accuracy: 0.6389\n",
            "Epoch 36/100\n",
            "18/18 [==============================] - 0s 19ms/step - loss: 1.8693e-04 - accuracy: 1.0000 - val_loss: 3.0410 - val_accuracy: 0.6389\n",
            "Epoch 37/100\n",
            "18/18 [==============================] - 0s 18ms/step - loss: 1.8163e-04 - accuracy: 1.0000 - val_loss: 3.0522 - val_accuracy: 0.6389\n",
            "Epoch 38/100\n",
            "18/18 [==============================] - 0s 19ms/step - loss: 1.7824e-04 - accuracy: 1.0000 - val_loss: 3.0617 - val_accuracy: 0.6389\n",
            "Epoch 39/100\n",
            "18/18 [==============================] - 0s 19ms/step - loss: 1.6440e-04 - accuracy: 1.0000 - val_loss: 3.0700 - val_accuracy: 0.6389\n",
            "Epoch 40/100\n",
            "18/18 [==============================] - 0s 19ms/step - loss: 1.5592e-04 - accuracy: 1.0000 - val_loss: 3.0793 - val_accuracy: 0.6389\n",
            "Epoch 41/100\n",
            "18/18 [==============================] - 0s 19ms/step - loss: 1.5647e-04 - accuracy: 1.0000 - val_loss: 3.0872 - val_accuracy: 0.6389\n",
            "Epoch 42/100\n",
            "18/18 [==============================] - 0s 19ms/step - loss: 1.4475e-04 - accuracy: 1.0000 - val_loss: 3.0957 - val_accuracy: 0.6389\n",
            "Epoch 43/100\n",
            "18/18 [==============================] - 0s 18ms/step - loss: 1.4893e-04 - accuracy: 1.0000 - val_loss: 3.1043 - val_accuracy: 0.6389\n",
            "Epoch 44/100\n",
            "18/18 [==============================] - 0s 19ms/step - loss: 1.2922e-04 - accuracy: 1.0000 - val_loss: 3.1102 - val_accuracy: 0.6250\n",
            "Epoch 45/100\n",
            "18/18 [==============================] - 0s 18ms/step - loss: 1.2306e-04 - accuracy: 1.0000 - val_loss: 3.1187 - val_accuracy: 0.6319\n",
            "Epoch 46/100\n",
            "18/18 [==============================] - 0s 19ms/step - loss: 1.2126e-04 - accuracy: 1.0000 - val_loss: 3.1264 - val_accuracy: 0.6250\n",
            "Epoch 47/100\n",
            "18/18 [==============================] - 0s 19ms/step - loss: 1.2454e-04 - accuracy: 1.0000 - val_loss: 3.1338 - val_accuracy: 0.6250\n",
            "Epoch 48/100\n",
            "18/18 [==============================] - 0s 19ms/step - loss: 1.1059e-04 - accuracy: 1.0000 - val_loss: 3.1411 - val_accuracy: 0.6250\n",
            "Epoch 49/100\n",
            "18/18 [==============================] - 0s 18ms/step - loss: 1.0672e-04 - accuracy: 1.0000 - val_loss: 3.1481 - val_accuracy: 0.6250\n",
            "Epoch 50/100\n",
            "18/18 [==============================] - 0s 19ms/step - loss: 1.1219e-04 - accuracy: 1.0000 - val_loss: 3.1563 - val_accuracy: 0.6250\n",
            "Epoch 51/100\n",
            "18/18 [==============================] - 0s 19ms/step - loss: 9.6343e-05 - accuracy: 1.0000 - val_loss: 3.1623 - val_accuracy: 0.6250\n",
            "Epoch 52/100\n",
            "18/18 [==============================] - 0s 19ms/step - loss: 1.0384e-04 - accuracy: 1.0000 - val_loss: 3.1689 - val_accuracy: 0.6250\n",
            "Epoch 53/100\n",
            "18/18 [==============================] - 0s 19ms/step - loss: 9.5125e-05 - accuracy: 1.0000 - val_loss: 3.1759 - val_accuracy: 0.6181\n",
            "Epoch 54/100\n",
            "18/18 [==============================] - 0s 19ms/step - loss: 8.4266e-05 - accuracy: 1.0000 - val_loss: 3.1823 - val_accuracy: 0.6181\n",
            "Epoch 55/100\n",
            "18/18 [==============================] - 0s 19ms/step - loss: 9.2156e-05 - accuracy: 1.0000 - val_loss: 3.1886 - val_accuracy: 0.6181\n",
            "Epoch 56/100\n",
            "18/18 [==============================] - 0s 19ms/step - loss: 8.7295e-05 - accuracy: 1.0000 - val_loss: 3.1961 - val_accuracy: 0.6181\n",
            "Epoch 57/100\n",
            "18/18 [==============================] - 0s 19ms/step - loss: 8.3805e-05 - accuracy: 1.0000 - val_loss: 3.2012 - val_accuracy: 0.6181\n",
            "Epoch 58/100\n",
            "18/18 [==============================] - 0s 19ms/step - loss: 7.6087e-05 - accuracy: 1.0000 - val_loss: 3.2076 - val_accuracy: 0.6181\n",
            "Epoch 59/100\n",
            "18/18 [==============================] - 0s 19ms/step - loss: 7.0437e-05 - accuracy: 1.0000 - val_loss: 3.2137 - val_accuracy: 0.6181\n",
            "Epoch 60/100\n",
            "18/18 [==============================] - 0s 19ms/step - loss: 7.3928e-05 - accuracy: 1.0000 - val_loss: 3.2188 - val_accuracy: 0.6181\n",
            "Epoch 61/100\n",
            "18/18 [==============================] - 0s 18ms/step - loss: 7.1832e-05 - accuracy: 1.0000 - val_loss: 3.2254 - val_accuracy: 0.6181\n",
            "Epoch 62/100\n",
            "18/18 [==============================] - 0s 19ms/step - loss: 6.4988e-05 - accuracy: 1.0000 - val_loss: 3.2311 - val_accuracy: 0.6181\n",
            "Epoch 63/100\n",
            "18/18 [==============================] - 0s 19ms/step - loss: 6.7671e-05 - accuracy: 1.0000 - val_loss: 3.2368 - val_accuracy: 0.6181\n",
            "Epoch 64/100\n",
            "18/18 [==============================] - 0s 19ms/step - loss: 5.9994e-05 - accuracy: 1.0000 - val_loss: 3.2413 - val_accuracy: 0.6250\n",
            "Epoch 65/100\n",
            "18/18 [==============================] - 0s 19ms/step - loss: 5.9049e-05 - accuracy: 1.0000 - val_loss: 3.2467 - val_accuracy: 0.6250\n",
            "Epoch 66/100\n",
            "18/18 [==============================] - 0s 19ms/step - loss: 6.2280e-05 - accuracy: 1.0000 - val_loss: 3.2528 - val_accuracy: 0.6250\n",
            "Epoch 67/100\n",
            "18/18 [==============================] - 0s 19ms/step - loss: 5.5707e-05 - accuracy: 1.0000 - val_loss: 3.2583 - val_accuracy: 0.6250\n",
            "Epoch 68/100\n",
            "18/18 [==============================] - 0s 19ms/step - loss: 5.5943e-05 - accuracy: 1.0000 - val_loss: 3.2626 - val_accuracy: 0.6250\n",
            "Epoch 69/100\n",
            "18/18 [==============================] - 0s 19ms/step - loss: 5.4911e-05 - accuracy: 1.0000 - val_loss: 3.2680 - val_accuracy: 0.6250\n",
            "Epoch 70/100\n",
            "18/18 [==============================] - 0s 19ms/step - loss: 5.0532e-05 - accuracy: 1.0000 - val_loss: 3.2735 - val_accuracy: 0.6250\n",
            "Epoch 71/100\n",
            "18/18 [==============================] - 0s 19ms/step - loss: 5.1846e-05 - accuracy: 1.0000 - val_loss: 3.2776 - val_accuracy: 0.6250\n",
            "Epoch 72/100\n",
            "18/18 [==============================] - 0s 19ms/step - loss: 5.1290e-05 - accuracy: 1.0000 - val_loss: 3.2833 - val_accuracy: 0.6250\n",
            "Epoch 73/100\n",
            "18/18 [==============================] - 0s 19ms/step - loss: 4.7894e-05 - accuracy: 1.0000 - val_loss: 3.2889 - val_accuracy: 0.6319\n",
            "Epoch 74/100\n",
            "18/18 [==============================] - 0s 19ms/step - loss: 4.4201e-05 - accuracy: 1.0000 - val_loss: 3.2936 - val_accuracy: 0.6319\n",
            "Epoch 75/100\n",
            "18/18 [==============================] - 0s 19ms/step - loss: 4.5480e-05 - accuracy: 1.0000 - val_loss: 3.2981 - val_accuracy: 0.6319\n",
            "Epoch 76/100\n",
            "18/18 [==============================] - 0s 18ms/step - loss: 4.1463e-05 - accuracy: 1.0000 - val_loss: 3.3035 - val_accuracy: 0.6319\n",
            "Epoch 77/100\n",
            "18/18 [==============================] - 0s 20ms/step - loss: 4.2263e-05 - accuracy: 1.0000 - val_loss: 3.3078 - val_accuracy: 0.6319\n",
            "Epoch 78/100\n",
            "18/18 [==============================] - 0s 20ms/step - loss: 4.1532e-05 - accuracy: 1.0000 - val_loss: 3.3125 - val_accuracy: 0.6319\n",
            "Epoch 79/100\n",
            "18/18 [==============================] - 0s 19ms/step - loss: 4.4351e-05 - accuracy: 1.0000 - val_loss: 3.3174 - val_accuracy: 0.6319\n",
            "Epoch 80/100\n",
            "18/18 [==============================] - 0s 19ms/step - loss: 4.0558e-05 - accuracy: 1.0000 - val_loss: 3.3218 - val_accuracy: 0.6319\n",
            "Epoch 81/100\n",
            "18/18 [==============================] - 0s 18ms/step - loss: 3.8982e-05 - accuracy: 1.0000 - val_loss: 3.3276 - val_accuracy: 0.6319\n",
            "Epoch 82/100\n",
            "18/18 [==============================] - 0s 18ms/step - loss: 3.2822e-05 - accuracy: 1.0000 - val_loss: 3.3317 - val_accuracy: 0.6319\n",
            "Epoch 83/100\n",
            "18/18 [==============================] - 0s 19ms/step - loss: 3.5272e-05 - accuracy: 1.0000 - val_loss: 3.3362 - val_accuracy: 0.6319\n",
            "Epoch 84/100\n",
            "18/18 [==============================] - 0s 18ms/step - loss: 3.7300e-05 - accuracy: 1.0000 - val_loss: 3.3418 - val_accuracy: 0.6319\n",
            "Epoch 85/100\n",
            "18/18 [==============================] - 0s 19ms/step - loss: 3.2622e-05 - accuracy: 1.0000 - val_loss: 3.3450 - val_accuracy: 0.6319\n",
            "Epoch 86/100\n",
            "18/18 [==============================] - 0s 19ms/step - loss: 3.2550e-05 - accuracy: 1.0000 - val_loss: 3.3499 - val_accuracy: 0.6319\n",
            "Epoch 87/100\n",
            "18/18 [==============================] - 0s 19ms/step - loss: 3.4939e-05 - accuracy: 1.0000 - val_loss: 3.3544 - val_accuracy: 0.6319\n",
            "Epoch 88/100\n",
            "18/18 [==============================] - 0s 19ms/step - loss: 3.1081e-05 - accuracy: 1.0000 - val_loss: 3.3583 - val_accuracy: 0.6319\n",
            "Epoch 89/100\n",
            "18/18 [==============================] - 0s 20ms/step - loss: 3.0165e-05 - accuracy: 1.0000 - val_loss: 3.3634 - val_accuracy: 0.6319\n",
            "Epoch 90/100\n",
            "18/18 [==============================] - 0s 19ms/step - loss: 2.7582e-05 - accuracy: 1.0000 - val_loss: 3.3674 - val_accuracy: 0.6319\n",
            "Epoch 91/100\n",
            "18/18 [==============================] - 0s 19ms/step - loss: 2.9031e-05 - accuracy: 1.0000 - val_loss: 3.3700 - val_accuracy: 0.6319\n",
            "Epoch 92/100\n",
            "18/18 [==============================] - 0s 19ms/step - loss: 2.8916e-05 - accuracy: 1.0000 - val_loss: 3.3755 - val_accuracy: 0.6319\n",
            "Epoch 93/100\n",
            "18/18 [==============================] - 0s 19ms/step - loss: 2.8598e-05 - accuracy: 1.0000 - val_loss: 3.3796 - val_accuracy: 0.6319\n",
            "Epoch 94/100\n",
            "18/18 [==============================] - 0s 19ms/step - loss: 2.7910e-05 - accuracy: 1.0000 - val_loss: 3.3839 - val_accuracy: 0.6319\n",
            "Epoch 95/100\n",
            "18/18 [==============================] - 0s 19ms/step - loss: 2.5032e-05 - accuracy: 1.0000 - val_loss: 3.3888 - val_accuracy: 0.6319\n",
            "Epoch 96/100\n",
            "18/18 [==============================] - 0s 19ms/step - loss: 2.6625e-05 - accuracy: 1.0000 - val_loss: 3.3928 - val_accuracy: 0.6319\n",
            "Epoch 97/100\n",
            "18/18 [==============================] - 0s 19ms/step - loss: 2.5824e-05 - accuracy: 1.0000 - val_loss: 3.3960 - val_accuracy: 0.6319\n",
            "Epoch 98/100\n",
            "18/18 [==============================] - 0s 19ms/step - loss: 2.5012e-05 - accuracy: 1.0000 - val_loss: 3.4002 - val_accuracy: 0.6319\n",
            "Epoch 99/100\n",
            "18/18 [==============================] - 0s 19ms/step - loss: 2.3367e-05 - accuracy: 1.0000 - val_loss: 3.4055 - val_accuracy: 0.6319\n",
            "Epoch 100/100\n",
            "18/18 [==============================] - 0s 19ms/step - loss: 2.4127e-05 - accuracy: 1.0000 - val_loss: 3.4088 - val_accuracy: 0.6319\n"
          ],
          "name": "stdout"
        }
      ]
    },
    {
      "cell_type": "code",
      "metadata": {
        "colab": {
          "base_uri": "https://localhost:8080/",
          "height": 300
        },
        "id": "RmhzK_pSTypu",
        "outputId": "bb830b41-8296-4cc0-82c5-1865025e0ca1"
      },
      "source": [
        "plt.plot(history.history['accuracy'], label='accuracy')\n",
        "plt.plot(history.history['val_accuracy'], label = 'val_accuracy')\n",
        "plt.xlabel('Epoch')\n",
        "plt.ylabel('Accuracy')\n",
        "plt.ylim([0.5, 1])\n",
        "plt.legend(loc='lower right')\n",
        "\n",
        "test_loss, test_acc = model.evaluate(X_test, y_test, verbose=2)"
      ],
      "execution_count": 107,
      "outputs": [
        {
          "output_type": "stream",
          "text": [
            "5/5 - 0s - loss: 3.4088 - accuracy: 0.6319\n"
          ],
          "name": "stdout"
        },
        {
          "output_type": "display_data",
          "data": {
            "image/png": "[encoded data removed]",
            "text/plain": [
              "<Figure size 432x288 with 1 Axes>"
            ]
          },
          "metadata": {
            "tags": [],
            "needs_background": "light"
          }
        }
      ]
    },
    {
      "cell_type": "code",
      "metadata": {
        "colab": {
          "base_uri": "https://localhost:8080/",
          "height": 747
        },
        "id": "3je-tNSZSeyh",
        "outputId": "a87f4a5b-89e6-4959-fea5-4186a85e5daa"
      },
      "source": [
        "model.predict(X_train[0])"
      ],
      "execution_count": 108,
      "outputs": [
        {
          "output_type": "error",
          "ename": "ValueError",
          "evalue": "ignored",
          "traceback": [
            "\u001b[0;31m---------------------------------------------------------------------------\u001b[0m",
            "\u001b[0;31mValueError\u001b[0m                                Traceback (most recent call last)",
            "\u001b[0;32m<ipython-input-108-6fed98f14d48>\u001b[0m in \u001b[0;36m<module>\u001b[0;34m()\u001b[0m\n\u001b[0;32m----> 1\u001b[0;31m \u001b[0mmodel\u001b[0m\u001b[0;34m.\u001b[0m\u001b[0mpredict\u001b[0m\u001b[0;34m(\u001b[0m\u001b[0mX_train\u001b[0m\u001b[0;34m[\u001b[0m\u001b[0;36m0\u001b[0m\u001b[0;34m]\u001b[0m\u001b[0;34m)\u001b[0m\u001b[0;34m\u001b[0m\u001b[0;34m\u001b[0m\u001b[0m\n\u001b[0m",
            "\u001b[0;32m/usr/local/lib/python3.7/dist-packages/tensorflow/python/keras/engine/training.py\u001b[0m in \u001b[0;36mpredict\u001b[0;34m(self, x, batch_size, verbose, steps, callbacks, max_queue_size, workers, use_multiprocessing)\u001b[0m\n\u001b[1;32m   1627\u001b[0m           \u001b[0;32mfor\u001b[0m \u001b[0mstep\u001b[0m \u001b[0;32min\u001b[0m \u001b[0mdata_handler\u001b[0m\u001b[0;34m.\u001b[0m\u001b[0msteps\u001b[0m\u001b[0;34m(\u001b[0m\u001b[0;34m)\u001b[0m\u001b[0;34m:\u001b[0m\u001b[0;34m\u001b[0m\u001b[0;34m\u001b[0m\u001b[0m\n\u001b[1;32m   1628\u001b[0m             \u001b[0mcallbacks\u001b[0m\u001b[0;34m.\u001b[0m\u001b[0mon_predict_batch_begin\u001b[0m\u001b[0;34m(\u001b[0m\u001b[0mstep\u001b[0m\u001b[0;34m)\u001b[0m\u001b[0;34m\u001b[0m\u001b[0;34m\u001b[0m\u001b[0m\n\u001b[0;32m-> 1629\u001b[0;31m             \u001b[0mtmp_batch_outputs\u001b[0m \u001b[0;34m=\u001b[0m \u001b[0mself\u001b[0m\u001b[0;34m.\u001b[0m\u001b[0mpredict_function\u001b[0m\u001b[0;34m(\u001b[0m\u001b[0miterator\u001b[0m\u001b[0;34m)\u001b[0m\u001b[0;34m\u001b[0m\u001b[0;34m\u001b[0m\u001b[0m\n\u001b[0m\u001b[1;32m   1630\u001b[0m             \u001b[0;32mif\u001b[0m \u001b[0mdata_handler\u001b[0m\u001b[0;34m.\u001b[0m\u001b[0mshould_sync\u001b[0m\u001b[0;34m:\u001b[0m\u001b[0;34m\u001b[0m\u001b[0;34m\u001b[0m\u001b[0m\n\u001b[1;32m   1631\u001b[0m               \u001b[0mcontext\u001b[0m\u001b[0;34m.\u001b[0m\u001b[0masync_wait\u001b[0m\u001b[0;34m(\u001b[0m\u001b[0;34m)\u001b[0m\u001b[0;34m\u001b[0m\u001b[0;34m\u001b[0m\u001b[0m\n",
            "\u001b[0;32m/usr/local/lib/python3.7/dist-packages/tensorflow/python/eager/def_function.py\u001b[0m in \u001b[0;36m__call__\u001b[0;34m(self, *args, **kwds)\u001b[0m\n\u001b[1;32m    826\u001b[0m     \u001b[0mtracing_count\u001b[0m \u001b[0;34m=\u001b[0m \u001b[0mself\u001b[0m\u001b[0;34m.\u001b[0m\u001b[0mexperimental_get_tracing_count\u001b[0m\u001b[0;34m(\u001b[0m\u001b[0;34m)\u001b[0m\u001b[0;34m\u001b[0m\u001b[0;34m\u001b[0m\u001b[0m\n\u001b[1;32m    827\u001b[0m     \u001b[0;32mwith\u001b[0m \u001b[0mtrace\u001b[0m\u001b[0;34m.\u001b[0m\u001b[0mTrace\u001b[0m\u001b[0;34m(\u001b[0m\u001b[0mself\u001b[0m\u001b[0;34m.\u001b[0m\u001b[0m_name\u001b[0m\u001b[0;34m)\u001b[0m \u001b[0;32mas\u001b[0m \u001b[0mtm\u001b[0m\u001b[0;34m:\u001b[0m\u001b[0;34m\u001b[0m\u001b[0;34m\u001b[0m\u001b[0m\n\u001b[0;32m--> 828\u001b[0;31m       \u001b[0mresult\u001b[0m \u001b[0;34m=\u001b[0m \u001b[0mself\u001b[0m\u001b[0;34m.\u001b[0m\u001b[0m_call\u001b[0m\u001b[0;34m(\u001b[0m\u001b[0;34m*\u001b[0m\u001b[0margs\u001b[0m\u001b[0;34m,\u001b[0m \u001b[0;34m**\u001b[0m\u001b[0mkwds\u001b[0m\u001b[0;34m)\u001b[0m\u001b[0;34m\u001b[0m\u001b[0;34m\u001b[0m\u001b[0m\n\u001b[0m\u001b[1;32m    829\u001b[0m       \u001b[0mcompiler\u001b[0m \u001b[0;34m=\u001b[0m \u001b[0;34m\"xla\"\u001b[0m \u001b[0;32mif\u001b[0m \u001b[0mself\u001b[0m\u001b[0;34m.\u001b[0m\u001b[0m_experimental_compile\u001b[0m \u001b[0;32melse\u001b[0m \u001b[0;34m\"nonXla\"\u001b[0m\u001b[0;34m\u001b[0m\u001b[0;34m\u001b[0m\u001b[0m\n\u001b[1;32m    830\u001b[0m       \u001b[0mnew_tracing_count\u001b[0m \u001b[0;34m=\u001b[0m \u001b[0mself\u001b[0m\u001b[0;34m.\u001b[0m\u001b[0mexperimental_get_tracing_count\u001b[0m\u001b[0;34m(\u001b[0m\u001b[0;34m)\u001b[0m\u001b[0;34m\u001b[0m\u001b[0;34m\u001b[0m\u001b[0m\n",
            "\u001b[0;32m/usr/local/lib/python3.7/dist-packages/tensorflow/python/eager/def_function.py\u001b[0m in \u001b[0;36m_call\u001b[0;34m(self, *args, **kwds)\u001b[0m\n\u001b[1;32m    869\u001b[0m       \u001b[0;31m# This is the first call of __call__, so we have to initialize.\u001b[0m\u001b[0;34m\u001b[0m\u001b[0;34m\u001b[0m\u001b[0;34m\u001b[0m\u001b[0m\n\u001b[1;32m    870\u001b[0m       \u001b[0minitializers\u001b[0m \u001b[0;34m=\u001b[0m \u001b[0;34m[\u001b[0m\u001b[0;34m]\u001b[0m\u001b[0;34m\u001b[0m\u001b[0;34m\u001b[0m\u001b[0m\n\u001b[0;32m--> 871\u001b[0;31m       \u001b[0mself\u001b[0m\u001b[0;34m.\u001b[0m\u001b[0m_initialize\u001b[0m\u001b[0;34m(\u001b[0m\u001b[0margs\u001b[0m\u001b[0;34m,\u001b[0m \u001b[0mkwds\u001b[0m\u001b[0;34m,\u001b[0m \u001b[0madd_initializers_to\u001b[0m\u001b[0;34m=\u001b[0m\u001b[0minitializers\u001b[0m\u001b[0;34m)\u001b[0m\u001b[0;34m\u001b[0m\u001b[0;34m\u001b[0m\u001b[0m\n\u001b[0m\u001b[1;32m    872\u001b[0m     \u001b[0;32mfinally\u001b[0m\u001b[0;34m:\u001b[0m\u001b[0;34m\u001b[0m\u001b[0;34m\u001b[0m\u001b[0m\n\u001b[1;32m    873\u001b[0m       \u001b[0;31m# At this point we know that the initialization is complete (or less\u001b[0m\u001b[0;34m\u001b[0m\u001b[0;34m\u001b[0m\u001b[0;34m\u001b[0m\u001b[0m\n",
            "\u001b[0;32m/usr/local/lib/python3.7/dist-packages/tensorflow/python/eager/def_function.py\u001b[0m in \u001b[0;36m_initialize\u001b[0;34m(self, args, kwds, add_initializers_to)\u001b[0m\n\u001b[1;32m    724\u001b[0m     self._concrete_stateful_fn = (\n\u001b[1;32m    725\u001b[0m         self._stateful_fn._get_concrete_function_internal_garbage_collected(  # pylint: disable=protected-access\n\u001b[0;32m--> 726\u001b[0;31m             *args, **kwds))\n\u001b[0m\u001b[1;32m    727\u001b[0m \u001b[0;34m\u001b[0m\u001b[0m\n\u001b[1;32m    728\u001b[0m     \u001b[0;32mdef\u001b[0m \u001b[0minvalid_creator_scope\u001b[0m\u001b[0;34m(\u001b[0m\u001b[0;34m*\u001b[0m\u001b[0munused_args\u001b[0m\u001b[0;34m,\u001b[0m \u001b[0;34m**\u001b[0m\u001b[0munused_kwds\u001b[0m\u001b[0;34m)\u001b[0m\u001b[0;34m:\u001b[0m\u001b[0;34m\u001b[0m\u001b[0;34m\u001b[0m\u001b[0m\n",
            "\u001b[0;32m/usr/local/lib/python3.7/dist-packages/tensorflow/python/eager/function.py\u001b[0m in \u001b[0;36m_get_concrete_function_internal_garbage_collected\u001b[0;34m(self, *args, **kwargs)\u001b[0m\n\u001b[1;32m   2967\u001b[0m       \u001b[0margs\u001b[0m\u001b[0;34m,\u001b[0m \u001b[0mkwargs\u001b[0m \u001b[0;34m=\u001b[0m \u001b[0;32mNone\u001b[0m\u001b[0;34m,\u001b[0m \u001b[0;32mNone\u001b[0m\u001b[0;34m\u001b[0m\u001b[0;34m\u001b[0m\u001b[0m\n\u001b[1;32m   2968\u001b[0m     \u001b[0;32mwith\u001b[0m \u001b[0mself\u001b[0m\u001b[0;34m.\u001b[0m\u001b[0m_lock\u001b[0m\u001b[0;34m:\u001b[0m\u001b[0;34m\u001b[0m\u001b[0;34m\u001b[0m\u001b[0m\n\u001b[0;32m-> 2969\u001b[0;31m       \u001b[0mgraph_function\u001b[0m\u001b[0;34m,\u001b[0m \u001b[0m_\u001b[0m \u001b[0;34m=\u001b[0m \u001b[0mself\u001b[0m\u001b[0;34m.\u001b[0m\u001b[0m_maybe_define_function\u001b[0m\u001b[0;34m(\u001b[0m\u001b[0margs\u001b[0m\u001b[0;34m,\u001b[0m \u001b[0mkwargs\u001b[0m\u001b[0;34m)\u001b[0m\u001b[0;34m\u001b[0m\u001b[0;34m\u001b[0m\u001b[0m\n\u001b[0m\u001b[1;32m   2970\u001b[0m     \u001b[0;32mreturn\u001b[0m \u001b[0mgraph_function\u001b[0m\u001b[0;34m\u001b[0m\u001b[0;34m\u001b[0m\u001b[0m\n\u001b[1;32m   2971\u001b[0m \u001b[0;34m\u001b[0m\u001b[0m\n",
            "\u001b[0;32m/usr/local/lib/python3.7/dist-packages/tensorflow/python/eager/function.py\u001b[0m in \u001b[0;36m_maybe_define_function\u001b[0;34m(self, args, kwargs)\u001b[0m\n\u001b[1;32m   3359\u001b[0m \u001b[0;34m\u001b[0m\u001b[0m\n\u001b[1;32m   3360\u001b[0m           \u001b[0mself\u001b[0m\u001b[0;34m.\u001b[0m\u001b[0m_function_cache\u001b[0m\u001b[0;34m.\u001b[0m\u001b[0mmissed\u001b[0m\u001b[0;34m.\u001b[0m\u001b[0madd\u001b[0m\u001b[0;34m(\u001b[0m\u001b[0mcall_context_key\u001b[0m\u001b[0;34m)\u001b[0m\u001b[0;34m\u001b[0m\u001b[0;34m\u001b[0m\u001b[0m\n\u001b[0;32m-> 3361\u001b[0;31m           \u001b[0mgraph_function\u001b[0m \u001b[0;34m=\u001b[0m \u001b[0mself\u001b[0m\u001b[0;34m.\u001b[0m\u001b[0m_create_graph_function\u001b[0m\u001b[0;34m(\u001b[0m\u001b[0margs\u001b[0m\u001b[0;34m,\u001b[0m \u001b[0mkwargs\u001b[0m\u001b[0;34m)\u001b[0m\u001b[0;34m\u001b[0m\u001b[0;34m\u001b[0m\u001b[0m\n\u001b[0m\u001b[1;32m   3362\u001b[0m           \u001b[0mself\u001b[0m\u001b[0;34m.\u001b[0m\u001b[0m_function_cache\u001b[0m\u001b[0;34m.\u001b[0m\u001b[0mprimary\u001b[0m\u001b[0;34m[\u001b[0m\u001b[0mcache_key\u001b[0m\u001b[0;34m]\u001b[0m \u001b[0;34m=\u001b[0m \u001b[0mgraph_function\u001b[0m\u001b[0;34m\u001b[0m\u001b[0;34m\u001b[0m\u001b[0m\n\u001b[1;32m   3363\u001b[0m \u001b[0;34m\u001b[0m\u001b[0m\n",
            "\u001b[0;32m/usr/local/lib/python3.7/dist-packages/tensorflow/python/eager/function.py\u001b[0m in \u001b[0;36m_create_graph_function\u001b[0;34m(self, args, kwargs, override_flat_arg_shapes)\u001b[0m\n\u001b[1;32m   3204\u001b[0m             \u001b[0marg_names\u001b[0m\u001b[0;34m=\u001b[0m\u001b[0marg_names\u001b[0m\u001b[0;34m,\u001b[0m\u001b[0;34m\u001b[0m\u001b[0;34m\u001b[0m\u001b[0m\n\u001b[1;32m   3205\u001b[0m             \u001b[0moverride_flat_arg_shapes\u001b[0m\u001b[0;34m=\u001b[0m\u001b[0moverride_flat_arg_shapes\u001b[0m\u001b[0;34m,\u001b[0m\u001b[0;34m\u001b[0m\u001b[0;34m\u001b[0m\u001b[0m\n\u001b[0;32m-> 3206\u001b[0;31m             capture_by_value=self._capture_by_value),\n\u001b[0m\u001b[1;32m   3207\u001b[0m         \u001b[0mself\u001b[0m\u001b[0;34m.\u001b[0m\u001b[0m_function_attributes\u001b[0m\u001b[0;34m,\u001b[0m\u001b[0;34m\u001b[0m\u001b[0;34m\u001b[0m\u001b[0m\n\u001b[1;32m   3208\u001b[0m         \u001b[0mfunction_spec\u001b[0m\u001b[0;34m=\u001b[0m\u001b[0mself\u001b[0m\u001b[0;34m.\u001b[0m\u001b[0mfunction_spec\u001b[0m\u001b[0;34m,\u001b[0m\u001b[0;34m\u001b[0m\u001b[0;34m\u001b[0m\u001b[0m\n",
            "\u001b[0;32m/usr/local/lib/python3.7/dist-packages/tensorflow/python/framework/func_graph.py\u001b[0m in \u001b[0;36mfunc_graph_from_py_func\u001b[0;34m(name, python_func, args, kwargs, signature, func_graph, autograph, autograph_options, add_control_dependencies, arg_names, op_return_value, collections, capture_by_value, override_flat_arg_shapes)\u001b[0m\n\u001b[1;32m    988\u001b[0m         \u001b[0m_\u001b[0m\u001b[0;34m,\u001b[0m \u001b[0moriginal_func\u001b[0m \u001b[0;34m=\u001b[0m \u001b[0mtf_decorator\u001b[0m\u001b[0;34m.\u001b[0m\u001b[0munwrap\u001b[0m\u001b[0;34m(\u001b[0m\u001b[0mpython_func\u001b[0m\u001b[0;34m)\u001b[0m\u001b[0;34m\u001b[0m\u001b[0;34m\u001b[0m\u001b[0m\n\u001b[1;32m    989\u001b[0m \u001b[0;34m\u001b[0m\u001b[0m\n\u001b[0;32m--> 990\u001b[0;31m       \u001b[0mfunc_outputs\u001b[0m \u001b[0;34m=\u001b[0m \u001b[0mpython_func\u001b[0m\u001b[0;34m(\u001b[0m\u001b[0;34m*\u001b[0m\u001b[0mfunc_args\u001b[0m\u001b[0;34m,\u001b[0m \u001b[0;34m**\u001b[0m\u001b[0mfunc_kwargs\u001b[0m\u001b[0;34m)\u001b[0m\u001b[0;34m\u001b[0m\u001b[0;34m\u001b[0m\u001b[0m\n\u001b[0m\u001b[1;32m    991\u001b[0m \u001b[0;34m\u001b[0m\u001b[0m\n\u001b[1;32m    992\u001b[0m       \u001b[0;31m# invariant: `func_outputs` contains only Tensors, CompositeTensors,\u001b[0m\u001b[0;34m\u001b[0m\u001b[0;34m\u001b[0m\u001b[0;34m\u001b[0m\u001b[0m\n",
            "\u001b[0;32m/usr/local/lib/python3.7/dist-packages/tensorflow/python/eager/def_function.py\u001b[0m in \u001b[0;36mwrapped_fn\u001b[0;34m(*args, **kwds)\u001b[0m\n\u001b[1;32m    632\u001b[0m             \u001b[0mxla_context\u001b[0m\u001b[0;34m.\u001b[0m\u001b[0mExit\u001b[0m\u001b[0;34m(\u001b[0m\u001b[0;34m)\u001b[0m\u001b[0;34m\u001b[0m\u001b[0;34m\u001b[0m\u001b[0m\n\u001b[1;32m    633\u001b[0m         \u001b[0;32melse\u001b[0m\u001b[0;34m:\u001b[0m\u001b[0;34m\u001b[0m\u001b[0;34m\u001b[0m\u001b[0m\n\u001b[0;32m--> 634\u001b[0;31m           \u001b[0mout\u001b[0m \u001b[0;34m=\u001b[0m \u001b[0mweak_wrapped_fn\u001b[0m\u001b[0;34m(\u001b[0m\u001b[0;34m)\u001b[0m\u001b[0;34m.\u001b[0m\u001b[0m__wrapped__\u001b[0m\u001b[0;34m(\u001b[0m\u001b[0;34m*\u001b[0m\u001b[0margs\u001b[0m\u001b[0;34m,\u001b[0m \u001b[0;34m**\u001b[0m\u001b[0mkwds\u001b[0m\u001b[0;34m)\u001b[0m\u001b[0;34m\u001b[0m\u001b[0;34m\u001b[0m\u001b[0m\n\u001b[0m\u001b[1;32m    635\u001b[0m         \u001b[0;32mreturn\u001b[0m \u001b[0mout\u001b[0m\u001b[0;34m\u001b[0m\u001b[0;34m\u001b[0m\u001b[0m\n\u001b[1;32m    636\u001b[0m \u001b[0;34m\u001b[0m\u001b[0m\n",
            "\u001b[0;32m/usr/local/lib/python3.7/dist-packages/tensorflow/python/framework/func_graph.py\u001b[0m in \u001b[0;36mwrapper\u001b[0;34m(*args, **kwargs)\u001b[0m\n\u001b[1;32m    975\u001b[0m           \u001b[0;32mexcept\u001b[0m \u001b[0mException\u001b[0m \u001b[0;32mas\u001b[0m \u001b[0me\u001b[0m\u001b[0;34m:\u001b[0m  \u001b[0;31m# pylint:disable=broad-except\u001b[0m\u001b[0;34m\u001b[0m\u001b[0;34m\u001b[0m\u001b[0m\n\u001b[1;32m    976\u001b[0m             \u001b[0;32mif\u001b[0m \u001b[0mhasattr\u001b[0m\u001b[0;34m(\u001b[0m\u001b[0me\u001b[0m\u001b[0;34m,\u001b[0m \u001b[0;34m\"ag_error_metadata\"\u001b[0m\u001b[0;34m)\u001b[0m\u001b[0;34m:\u001b[0m\u001b[0;34m\u001b[0m\u001b[0;34m\u001b[0m\u001b[0m\n\u001b[0;32m--> 977\u001b[0;31m               \u001b[0;32mraise\u001b[0m \u001b[0me\u001b[0m\u001b[0;34m.\u001b[0m\u001b[0mag_error_metadata\u001b[0m\u001b[0;34m.\u001b[0m\u001b[0mto_exception\u001b[0m\u001b[0;34m(\u001b[0m\u001b[0me\u001b[0m\u001b[0;34m)\u001b[0m\u001b[0;34m\u001b[0m\u001b[0;34m\u001b[0m\u001b[0m\n\u001b[0m\u001b[1;32m    978\u001b[0m             \u001b[0;32melse\u001b[0m\u001b[0;34m:\u001b[0m\u001b[0;34m\u001b[0m\u001b[0;34m\u001b[0m\u001b[0m\n\u001b[1;32m    979\u001b[0m               \u001b[0;32mraise\u001b[0m\u001b[0;34m\u001b[0m\u001b[0;34m\u001b[0m\u001b[0m\n",
            "\u001b[0;31mValueError\u001b[0m: in user code:\n\n    /usr/local/lib/python3.7/dist-packages/tensorflow/python/keras/engine/training.py:1478 predict_function  *\n        return step_function(self, iterator)\n    /usr/local/lib/python3.7/dist-packages/tensorflow/python/keras/engine/training.py:1468 step_function  **\n        outputs = model.distribute_strategy.run(run_step, args=(data,))\n    /usr/local/lib/python3.7/dist-packages/tensorflow/python/distribute/distribute_lib.py:1259 run\n        return self._extended.call_for_each_replica(fn, args=args, kwargs=kwargs)\n    /usr/local/lib/python3.7/dist-packages/tensorflow/python/distribute/distribute_lib.py:2730 call_for_each_replica\n        return self._call_for_each_replica(fn, args, kwargs)\n    /usr/local/lib/python3.7/dist-packages/tensorflow/python/distribute/distribute_lib.py:3417 _call_for_each_replica\n        return fn(*args, **kwargs)\n    /usr/local/lib/python3.7/dist-packages/tensorflow/python/keras/engine/training.py:1461 run_step  **\n        outputs = model.predict_step(data)\n    /usr/local/lib/python3.7/dist-packages/tensorflow/python/keras/engine/training.py:1434 predict_step\n        return self(x, training=False)\n    /usr/local/lib/python3.7/dist-packages/tensorflow/python/keras/engine/base_layer.py:998 __call__\n        input_spec.assert_input_compatibility(self.input_spec, inputs, self.name)\n    /usr/local/lib/python3.7/dist-packages/tensorflow/python/keras/engine/input_spec.py:239 assert_input_compatibility\n        str(tuple(shape)))\n\n    ValueError: Input 0 of layer sequential_16 is incompatible with the layer: : expected min_ndim=4, found ndim=3. Full shape received: (32, 64, 3)\n"
          ]
        }
      ]
    }
  ]
}